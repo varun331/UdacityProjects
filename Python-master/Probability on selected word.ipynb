{
 "cells": [
  {
   "cell_type": "code",
   "execution_count": 17,
   "metadata": {
    "collapsed": true
   },
   "outputs": [],
   "source": [
    "text ='''Hello you is world you are xyz ha and dyz ha ha and ha ha and you are'''\n",
    "\n",
    "def NextWordProbability(sampletext,word):\n",
    "    words = sampletext.split(' ')\n",
    "    dict = {}\n",
    "    for index, val in enumerate(words):\n",
    "        pot_word = words[index + 1]\n",
    "        if val == word:\n",
    "            if pot_word in dict:\n",
    "                dict[pot_word] += 1\n",
    "            else:\n",
    "                dict[pot_word] = 1\n",
    "\n",
    "        if index == len(words) - 2:\n",
    "            return dict\n",
    "\n",
    "    return dict"
   ]
  },
  {
   "cell_type": "code",
   "execution_count": 56,
   "metadata": {
    "collapsed": false
   },
   "outputs": [
    {
     "data": {
      "text/plain": [
       "{'are': 2}"
      ]
     },
     "execution_count": 56,
     "metadata": {},
     "output_type": "execute_result"
    }
   ],
   "source": [
    "list=NextWordProbability(text,'''you''')\n",
    "\n",
    "#inverse = [(value, key) for key, value in list.items()]\n",
    "#print max(inverse)[1]\n",
    "\n",
    "#d = {k:v for (k, v) in list.items() if v == 2}\n",
    "d\n"
   ]
  },
  {
   "cell_type": "code",
   "execution_count": 108,
   "metadata": {
    "collapsed": false
   },
   "outputs": [
    {
     "name": "stdout",
     "output_type": "stream",
     "text": [
      "come\n"
     ]
    }
   ],
   "source": [
    "sample_memo = '''Milt, we're gonna need to go ahead and move you downstairs into storage B. We have some new people coming in, and we need all the space we can get. So if you could just go ahead and pack up your stuff and move it down there, that would be terrific, OK?\n",
    "Oh, and remember: next Friday... is Hawaiian shirt day. So, you know, if you want to, go ahead and wear a Hawaiian shirt and jeans.\n",
    "Oh, oh, and I almost forgot. Ahh, I'm also gonna need you to go ahead and come in on Sunday, too...\n",
    "Hello Peter, whats happening? Ummm, I'm gonna need you to go ahead and come in tomorrow. So if you could be here around 9 that would be great, mmmk... oh oh! and I almost forgot ahh, I'm also gonna need you to go ahead and come in on Sunday too, kay. We ahh lost some people this week and ah, we sorta need to play catch up.\n",
    "'''\n",
    "\n",
    "data_list = sample_memo.strip().split()\n",
    "\n",
    "def NextWordProbability(sampletext,word):\n",
    "    words = sampletext.split(' ')\n",
    "    dict = {}\n",
    "    for index, val in enumerate(words):\n",
    "        pot_word = words[index + 1]\n",
    "        if val == word:\n",
    "            if pot_word in dict:\n",
    "                dict[pot_word] += 1\n",
    "            else:\n",
    "                dict[pot_word] = 1\n",
    "\n",
    "        if index == len(words) - 2:\n",
    "            return dict\n",
    "\n",
    "    list = dict\n",
    "    inverse = [(value, key) for key, value in list.items()]\n",
    "print max(inverse)[1]\n",
    "    \n",
    "    \n",
    "\n",
    "    \n",
    "\n",
    "    \n",
    "    \n",
    "\n"
   ]
  },
  {
   "cell_type": "code",
   "execution_count": 105,
   "metadata": {
    "collapsed": false
   },
   "outputs": [
    {
     "data": {
      "text/plain": [
       "{'I': 2,\n",
       " 'ah,': 1,\n",
       " 'come': 3,\n",
       " 'jeans.\\nOh,': 1,\n",
       " 'move': 2,\n",
       " 'pack': 1,\n",
       " 'remember:': 1,\n",
       " 'we': 1,\n",
       " 'wear': 1}"
      ]
     },
     "execution_count": 105,
     "metadata": {},
     "output_type": "execute_result"
    }
   ],
   "source": [
    "NextWordProbability(sample_memo,\"and\")"
   ]
  },
  {
   "cell_type": "code",
   "execution_count": 65,
   "metadata": {
    "collapsed": false
   },
   "outputs": [
    {
     "data": {
      "text/plain": [
       "[(1, 'is'), (2, 'are')]"
      ]
     },
     "execution_count": 65,
     "metadata": {},
     "output_type": "execute_result"
    }
   ],
   "source": []
  },
  {
   "cell_type": "code",
   "execution_count": null,
   "metadata": {
    "collapsed": true
   },
   "outputs": [],
   "source": []
  }
 ],
 "metadata": {
  "kernelspec": {
   "display_name": "Python 2",
   "language": "python",
   "name": "python2"
  },
  "language_info": {
   "codemirror_mode": {
    "name": "ipython",
    "version": 2
   },
   "file_extension": ".py",
   "mimetype": "text/x-python",
   "name": "python",
   "nbconvert_exporter": "python",
   "pygments_lexer": "ipython2",
   "version": "2.7.13"
  }
 },
 "nbformat": 4,
 "nbformat_minor": 2
}
