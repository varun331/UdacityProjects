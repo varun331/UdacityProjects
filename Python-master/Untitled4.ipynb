{
 "cells": [
  {
   "cell_type": "code",
   "execution_count": 50,
   "metadata": {
    "collapsed": true
   },
   "outputs": [],
   "source": [
    "sample_memo = '''Milt, we're gonna need to go ahead and move you downstairs into storage B. We have some new people coming in, and we need all the space we can get. So if you could just go ahead and pack up your stuff and move it down there, that would be terrific, OK?\n",
    "Oh, and remember: next Friday... is Hawaiian shirt day. So, you know, if you want to, go ahead and wear a Hawaiian shirt and jeans.\n",
    "Oh, oh, and I almost forgot. Ahh, I'm also gonna need you to go ahead and come in on Sunday, too...\n",
    "Hello Peter, whats happening? Ummm, I'm gonna need you to go ahead and come in tomorrow. So if you could be here around 9 that would be great, mmmk... oh oh! and I almost forgot ahh, I'm also gonna need you to go ahead and come in on Sunday too, kay. We ahh lost some people this week and ah, we sorta need to play catch up.\n",
    "'''\n",
    "\n",
    "\n"
   ]
  },
  {
   "cell_type": "code",
   "execution_count": 249,
   "metadata": {
    "collapsed": false
   },
   "outputs": [],
   "source": [
    "sample_text='''gonna need you to go ahead, so if you could'''\n"
   ]
  },
  {
   "cell_type": "code",
   "execution_count": null,
   "metadata": {
    "collapsed": false
   },
   "outputs": [],
   "source": []
  },
  {
   "cell_type": "code",
   "execution_count": 158,
   "metadata": {
    "collapsed": true
   },
   "outputs": [],
   "source": [
    "\n",
    "def NextWordProbability(sampletext,word):\n",
    "    total_words = sampletext.split()\n",
    "    new_dict = {}\n",
    "\n",
    "    for i in range(len(total_words) - 1):\n",
    "        if total_words[i] == word:\n",
    "            new_dict[total_words[i+1]] = new_dict.get(total_words[i+1],0) + 1\n",
    "\n",
    "    sum_all = 0\n",
    "\n",
    "    for i in new_dict:\n",
    "        sum_all = sum_all + new_dict[i]\n",
    "\n",
    "    for i in new_dict:\n",
    "        new_dict[i] = (float)(new_dict[i])/sum_all\n",
    "\n",
    "    return new_dict\n",
    "\n",
    "def NextWordProbability(sampletext,word):"
   ]
  },
  {
   "cell_type": "code",
   "execution_count": 164,
   "metadata": {
    "collapsed": false
   },
   "outputs": [
    {
     "data": {
      "text/plain": [
       "{'I': 0.15384615384615385,\n",
       " 'ah,': 0.07692307692307693,\n",
       " 'come': 0.23076923076923078,\n",
       " 'jeans.': 0.07692307692307693,\n",
       " 'move': 0.15384615384615385,\n",
       " 'pack': 0.07692307692307693,\n",
       " 'remember:': 0.07692307692307693,\n",
       " 'we': 0.07692307692307693,\n",
       " 'wear': 0.07692307692307693}"
      ]
     },
     "execution_count": 164,
     "metadata": {},
     "output_type": "execute_result"
    }
   ],
   "source": [
    "NextWordProbability(sample_memo,\"and\")"
   ]
  },
  {
   "cell_type": "code",
   "execution_count": 269,
   "metadata": {
    "collapsed": false
   },
   "outputs": [],
   "source": [
    "def LaterWords(sample,word,distance):\n",
    "        norm_dict = NextWordProbability(sample,word)\n",
    "        full_dict = {}\n",
    "        for wd in norm_dict:\n",
    "            temp_dict = NextWordProbability(sample,wd)\n",
    "            for wd2 in temp_dict:\n",
    "                full_dict[wd2] = full_dict.get(wd2,0) + temp_dict[wd2]*norm_dict[wd]\n",
    "\n",
    "        \n",
    "        srt_words = sorted(full_dict.items(), key = lambda x:x[1],reverse = True)\n",
    "        return srt_words[0][0]\n",
    "\n",
    "\n",
    "    "
   ]
  },
  {
   "cell_type": "code",
   "execution_count": 241,
   "metadata": {
    "collapsed": false
   },
   "outputs": [
    {
     "data": {
      "text/plain": [
       "{'Oh,': 0.07692307692307693,\n",
       " 'a': 0.07692307692307693,\n",
       " 'almost': 0.15384615384615385,\n",
       " 'can': 0.02564102564102564,\n",
       " 'in': 0.23076923076923078,\n",
       " 'it': 0.07692307692307693,\n",
       " 'need': 0.02564102564102564,\n",
       " 'next': 0.07692307692307693,\n",
       " 'sorta': 0.02564102564102564,\n",
       " 'up': 0.07692307692307693,\n",
       " 'we': 0.07692307692307693,\n",
       " 'you': 0.07692307692307693}"
      ]
     },
     "execution_count": 241,
     "metadata": {},
     "output_type": "execute_result"
    }
   ],
   "source": [
    "LaterWords(sample_memo,\"and\",2)"
   ]
  },
  {
   "cell_type": "code",
   "execution_count": 251,
   "metadata": {
    "collapsed": false
   },
   "outputs": [
    {
     "data": {
      "text/plain": [
       "{'is': 0.25, 'this': 0.5, 'you': 0.25}"
      ]
     },
     "execution_count": 251,
     "metadata": {},
     "output_type": "execute_result"
    }
   ],
   "source": [
    "\n",
    "\n",
    "NextWordProbability(sample_text,\"and\")"
   ]
  },
  {
   "cell_type": "code",
   "execution_count": 270,
   "metadata": {
    "collapsed": false
   },
   "outputs": [
    {
     "data": {
      "text/plain": [
       "'was'"
      ]
     },
     "execution_count": 270,
     "metadata": {},
     "output_type": "execute_result"
    }
   ],
   "source": [
    "LaterWords(sample_text,\"and\",2)"
   ]
  },
  {
   "cell_type": "code",
   "execution_count": null,
   "metadata": {
    "collapsed": true
   },
   "outputs": [],
   "source": []
  }
 ],
 "metadata": {
  "kernelspec": {
   "display_name": "Python 2",
   "language": "python",
   "name": "python2"
  },
  "language_info": {
   "codemirror_mode": {
    "name": "ipython",
    "version": 2
   },
   "file_extension": ".py",
   "mimetype": "text/x-python",
   "name": "python",
   "nbconvert_exporter": "python",
   "pygments_lexer": "ipython2",
   "version": "2.7.13"
  }
 },
 "nbformat": 4,
 "nbformat_minor": 2
}
